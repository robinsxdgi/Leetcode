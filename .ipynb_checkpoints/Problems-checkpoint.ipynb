{
 "cells": [
  {
   "cell_type": "markdown",
   "metadata": {},
   "source": [
    "# 406. Queue Reconstruction by Height\n",
    "Suppose you have a random list of people standing in a queue. Each person is described by a pair of integers (h, k), where h is the height of the person and k is the number of people in front of this person who have a height greater than or equal to h. Write an algorithm to reconstruct the queue.\n",
    "\n",
    "Note:\n",
    "The number of people is less than 1,100.\n",
    "\n",
    "\n",
    "Example\n",
    "\n",
    "Input:\n",
    "[[7,0], [4,4], [7,1], [5,0], [6,1], [5,2]]\n",
    "\n",
    "Output:\n",
    "[[5,0], [7,0], [5,2], [6,1], [4,4], [7,1]]"
   ]
  },
  {
   "cell_type": "code",
   "execution_count": 1,
   "metadata": {},
   "outputs": [
    {
     "data": {
      "text/plain": [
       "[[5, 0], [7, 0], [5, 2], [6, 1], [4, 4], [7, 1]]"
      ]
     },
     "execution_count": 1,
     "metadata": {},
     "output_type": "execute_result"
    }
   ],
   "source": [
    "class Solution:\n",
    "    def reconstructQueue(self, people):\n",
    "        people = sorted(people, key = lambda x: (-x[0], x[1]))\n",
    "        final_list = []\n",
    "        for i in range(len(people)):\n",
    "            final_list.insert(people[i][1], people[i])\n",
    "        return final_list\n",
    "        \n",
    "#         print(people)\n",
    "test = Solution()\n",
    "test.reconstructQueue([[7,0], [4,4], [7,1], [5,0], [6,1], [5,2]])"
   ]
  },
  {
   "cell_type": "markdown",
   "metadata": {},
   "source": [
    "# 148. Sort List\n",
    "Sort a linked list in O(n log n) time using constant space complexity.\n",
    "\n",
    "Example 1:\n",
    "\n",
    "Input: 4->2->1->3\n",
    "Output: 1->2->3->4\n",
    "Example 2:\n",
    "\n",
    "Input: -1->5->3->4->0\n",
    "Output: -1->0->3->4->5"
   ]
  },
  {
   "cell_type": "markdown",
   "metadata": {},
   "source": [
    "## some knowledge about sorting\n",
    "For an array we could use quick sort to get the average performance of O(n log(n)), which depends on the luck of pivot's choice each time;\n",
    "\n",
    "For an linked list, we could use merge sort to get a worst case performance of O(n log(n)). \n",
    "\n",
    "We could think of the merge sort in this way: include <font color=blue>devide</font> + <font color=blue>sort_merge</font> two parts, for <font color=blue>devide</font>, it always divide a linked list into left and right half (with odd and even number), for <font color=blue>sort_merge</font>, it always returns the merge (i.e. a new list) of two sorted lists with this rule: (1) if one is null, then return the other, (2) if two are not null, then return a linked list with the largest/smallest value of the head elements of two lists, and the next value is the sort_merge the rest elements of the two lists without that head elements."
   ]
  },
  {
   "cell_type": "code",
   "execution_count": 46,
   "metadata": {},
   "outputs": [],
   "source": [
    "# Definition for singly-linked list.\n",
    "class ListNode:\n",
    "    def __init__(self, x):\n",
    "        self.val = x\n",
    "        self.next = None\n",
    "\n",
    "class Solution:\n",
    "#     def sortList(self, head):\n",
    "    def divide(self, head): \n",
    "        if head == None or head.next == None:\n",
    "            return head\n",
    "        left = ListNode(head.val) # left list initialized to the first element (4,1)\n",
    "        right = ListNode(head.next.val) # right list initialized to the second element (2,3)\n",
    "        index_node = head.next.next #(1,3)\n",
    "        left_last = left #(4,1)\n",
    "        right_last = right #(2,3)\n",
    "        while index_node != None and index_node.next != None:\n",
    "            left_last.next = ListNode(index_node.val) #(1)\n",
    "            right_last.next = ListNode(index_node.next.val) #(3)\n",
    "            left_last = left_last.next #(1)\n",
    "            right_last = right_last.next #(3)\n",
    "            index_node = index_node.next.next #(None)\n",
    "        left_last.next = index_node #(None) it might be none or some element, but its next must be none, since otherwise the while loop won't end\n",
    "        return self.sortMerge(self.divide(left), self.divide(right))\n",
    "    def sortMerge(self, left_list, right_list):\n",
    "        if left_list == None:\n",
    "            return right_list\n",
    "        if right_list == None:\n",
    "            return left_list\n",
    "        if left_list.val < right_list.val:\n",
    "            head = ListNode(left_list.val)\n",
    "            head.next = self.sortMerge(left_list.next, right_list)\n",
    "            return head\n",
    "        else:\n",
    "            head = ListNode(right_list.val)\n",
    "            head.next = self.sortMerge(left_list, right_list.next)\n",
    "            return head\n",
    "        "
   ]
  },
  {
   "cell_type": "code",
   "execution_count": 55,
   "metadata": {},
   "outputs": [
    {
     "name": "stdout",
     "output_type": "stream",
     "text": [
      "4\n"
     ]
    }
   ],
   "source": [
    "#4, 2, 1, 3\n",
    "# [-1,5,3,4,0]\n",
    "node1 = ListNode(-1)\n",
    "node2 = ListNode(5)\n",
    "node3 = ListNode(4)\n",
    "node4 = ListNode(5)\n",
    "node5 = ListNode(0)\n",
    "node1.next = node2\n",
    "node2.next = node3\n",
    "node3.next = node4\n",
    "node4.next = node5\n",
    "# testNode = node1.next\n",
    "# testNode.next = None\n",
    "test = Solution()\n",
    "# print(node1.next.next.next.next.val)\n",
    "print(test.divide(node1).next.next.val)"
   ]
  },
  {
   "cell_type": "markdown",
   "metadata": {},
   "source": [
    "# 617. Merge Two Binary Trees\n",
    "\n",
    "Given two binary trees and imagine that when you put one of them to cover the other, some nodes of the two trees are overlapped while the others are not.\n",
    "\n",
    "You need to merge them into a new binary tree. The merge rule is that if two nodes overlap, then sum node values up as the new value of the merged node. Otherwise, the NOT null node will be used as the node of new tree.\n",
    "\n",
    "Example 1:\n",
    "\n",
    "Input: \n",
    "\tTree 1                     Tree 2                  \n",
    "          1                         2                             \n",
    "         / \\                       / \\                            \n",
    "        3   2                     1   3                        \n",
    "       /                           \\   \\                      \n",
    "      5                             4   7                  \n",
    "Output: \n",
    "Merged tree:\n",
    "\t     3\n",
    "\t    / \\\n",
    "\t   4   5\n",
    "\t  / \\   \\ \n",
    "\t 5   4   7\n",
    " \n",
    "\n",
    "Note: The merging process must start from the root nodes of both trees."
   ]
  },
  {
   "cell_type": "code",
   "execution_count": 6,
   "metadata": {},
   "outputs": [],
   "source": [
    "# Definition for a binary tree node.\n",
    "class TreeNode:\n",
    "    def __init__(self, x):\n",
    "        self.val = x\n",
    "        self.left = None\n",
    "        self.right = None\n",
    "\n",
    "class Solution:\n",
    "    def mergeTrees(self, t1: TreeNode, t2: TreeNode) -> TreeNode:\n",
    "        if not t1:\n",
    "            return t2\n",
    "        if not t2:\n",
    "            return t1\n",
    "        combinedNode = TreeNode(t1.val + t2.val)\n",
    "        combinedNode.left = self.mergeTrees(t1.left, t2.left)\n",
    "        combinedNode.right = self.mergeTrees(t1.right, t2.right)\n",
    "        return combinedNode"
   ]
  },
  {
   "cell_type": "code",
   "execution_count": 17,
   "metadata": {},
   "outputs": [],
   "source": [
    "# Depth first search for binary tree\n",
    "def dFS(root):\n",
    "    s = []\n",
    "    s.append(root)\n",
    "    while len(s) != 0:\n",
    "        c = s.pop(-1)\n",
    "#         print(len(s))\n",
    "        print(c.val)\n",
    "        if c.left:\n",
    "            s.append(c.left)\n",
    "        if c.right:\n",
    "            s.append(c.right)"
   ]
  },
  {
   "cell_type": "code",
   "execution_count": 18,
   "metadata": {
    "scrolled": true
   },
   "outputs": [
    {
     "name": "stdout",
     "output_type": "stream",
     "text": [
      "1\n",
      "3\n",
      "2\n"
     ]
    }
   ],
   "source": [
    "test = TreeNode(1)\n",
    "test.left = TreeNode(2)\n",
    "test.right = TreeNode(3)\n",
    "dFS(test)"
   ]
  },
  {
   "cell_type": "markdown",
   "metadata": {},
   "source": [
    "# 104. Maximum Depth of Binary Tree\n",
    "\n",
    "Given a binary tree, find its maximum depth.\n",
    "\n",
    "The maximum depth is the number of nodes along the longest path from the root node down to the farthest leaf node.\n",
    "\n",
    "Note: A leaf is a node with no children.\n",
    "\n",
    "Example:\n",
    "\n",
    "Given binary tree [3,9,20,null,null,15,7],\n",
    "\n",
    "    3\n",
    "   / \\\n",
    "  9  20\n",
    "    /  \\\n",
    "   15   7\n",
    "return its depth = 3."
   ]
  },
  {
   "cell_type": "code",
   "execution_count": 21,
   "metadata": {},
   "outputs": [
    {
     "data": {
      "text/plain": [
       "2"
      ]
     },
     "execution_count": 21,
     "metadata": {},
     "output_type": "execute_result"
    }
   ],
   "source": [
    "# Definition for a binary tree node.\n",
    "class TreeNode:\n",
    "    def __init__(self, x):\n",
    "        self.val = x\n",
    "        self.left = None\n",
    "        self.right = None\n",
    "\n",
    "class Solution:\n",
    "    def maxDepth(self, root):\n",
    "        if not root:\n",
    "            return 0\n",
    "        return 1 + max(self.maxDepth(root.left), self.maxDepth(root.right))\n",
    "\n",
    "test = TreeNode(1)\n",
    "test.left = TreeNode(2)\n",
    "test.right = TreeNode(3)\n",
    "result = Solution()\n",
    "result.maxDepth(test)"
   ]
  },
  {
   "cell_type": "code",
   "execution_count": 24,
   "metadata": {},
   "outputs": [
    {
     "name": "stdout",
     "output_type": "stream",
     "text": [
      "[4, 4, 3, 2, 2, 1]\n"
     ]
    }
   ],
   "source": [
    "test = [1,2,4,3,4,2]\n",
    "haha = sorted(test, reverse = True)\n",
    "print(haha)"
   ]
  },
  {
   "cell_type": "markdown",
   "metadata": {},
   "source": [
    "# 101. Symmetric Tree\n",
    "\n",
    "Given a binary tree, check whether it is a mirror of itself (ie, symmetric around its center).\n",
    "\n",
    "For example, this binary tree [1,2,2,3,4,4,3] is symmetric:\n",
    "\n",
    "    1\n",
    "   / \\\n",
    "  2   2\n",
    " / \\ / \\\n",
    "3  4 4  3\n",
    "But the following [1,2,2,null,3,null,3] is not:\n",
    "    1\n",
    "   / \\\n",
    "  2   2\n",
    "   \\   \\\n",
    "   3    3\n",
    "Note:\n",
    "Bonus points if you could solve it both recursively and iteratively."
   ]
  },
  {
   "cell_type": "code",
   "execution_count": 52,
   "metadata": {},
   "outputs": [],
   "source": [
    "# Definition for a binary tree node.\n",
    "# class TreeNode:\n",
    "#     def __init__(self, x):\n",
    "#         self.val = x\n",
    "#         self.left = None\n",
    "#         self.right = None\n",
    "\n",
    "class Solution:\n",
    "    def isSymmetric(self, root):\n",
    "        if not root:\n",
    "            return True\n",
    "        return self.helper(root.left, root.right)\n",
    "    def helper(self, node1, node2):\n",
    "        if node1 == None and node2 != None:\n",
    "            return False\n",
    "        if node1 != None and node2 == None:\n",
    "            return False\n",
    "        if node1 == None and node2 == None:\n",
    "            return True\n",
    "        if node1.val != node2.val:\n",
    "            return False\n",
    "        return True and self.helper(node1.left, node2.right) and self.helper(node1.right, node2.left)"
   ]
  },
  {
   "cell_type": "markdown",
   "metadata": {},
   "source": [
    "# 200. Number of Islands\n",
    "\n",
    "Given a 2d grid map of '1's (land) and '0's (water), count the number of islands. An island is surrounded by water and is formed by connecting adjacent lands horizontally or vertically. You may assume all four edges of the grid are all surrounded by water.\n",
    "\n",
    "Example 1:\n",
    "\n",
    "Input:\n",
    "11110\n",
    "11010\n",
    "11000\n",
    "00000\n",
    "\n",
    "Output: 1\n",
    "Example 2:\n",
    "\n",
    "Input:\n",
    "11000\n",
    "11000\n",
    "00100\n",
    "00011\n",
    "\n",
    "Output: 3"
   ]
  },
  {
   "cell_type": "code",
   "execution_count": 64,
   "metadata": {},
   "outputs": [
    {
     "name": "stdout",
     "output_type": "stream",
     "text": [
      "[(1, 2), (2, 4), (3, 4)]\n",
      "<class 'list'>\n",
      "(1, 2)\n",
      "False\n",
      "<class 'tuple'>\n",
      "2\n"
     ]
    }
   ],
   "source": [
    "test = [(1,2), (2,4), (3,4)]\n",
    "print(test)\n",
    "print(type(test))\n",
    "print(test[0])\n",
    "print((2,1) in test)\n",
    "print(type(test[0]))\n",
    "print(test[0][1])"
   ]
  },
  {
   "cell_type": "code",
   "execution_count": 71,
   "metadata": {},
   "outputs": [],
   "source": [
    "# 1. put all the 1 node tuple in a list\n",
    "class Solutions:\n",
    "    def numIsland(self, grid):\n",
    "        islandTuple = []\n",
    "        for i in range(len(grid)):\n",
    "            for j in range(len(grid[0])):\n",
    "                if grid[i][j] == '1':\n",
    "                    islandTuple.append((i, j))\n",
    "        # 2. pop each node from the list and use DFS to \n",
    "        #    label each node and its nearby 1 nodes, and\n",
    "        #    remember to check if the node has been searched,\n",
    "        #    increase the label by 1\n",
    "        label = 0\n",
    "        root = islandTuple[-1]\n",
    "        while root in islandTuple:\n",
    "            islandTuple.pop()\n",
    "            label += 1\n",
    "            islandQue = []\n",
    "            islandQue.append(root)\n",
    "            while islandQue:\n",
    "                node = islandQue[-1]\n",
    "                islandQue.pop()\n",
    "                for ele in self.neighbor(node, len(grid), len(grid[0])):\n",
    "                    if ele in islandTuple:\n",
    "                        islandQue.append(ele)\n",
    "                        islandTuple.remove(ele) \n",
    "        # 3. return the largest label, i.e., the total islands\n",
    "        return label\n",
    "    \n",
    "    def neighbor(self, nodeTuple, rowSize, colSize):\n",
    "        tempNeighbour = []\n",
    "        if nodeTuple[1] - 1 >= 0:\n",
    "            tempNeighbour.append((nodeTuple[0],nodeTuple[1] - 1))\n",
    "        if nodeTuple[0] - 1 >= 0:\n",
    "            tempNeighbour.append((nodeTuple[0] - 1,nodeTuple[1]))\n",
    "        if nodeTuple[1] + 1 <= colSize - 1:\n",
    "            tempNeighbour.append((nodeTuple[0],nodeTuple[1] + 1))\n",
    "        if nodeTuple[0] + 1 <= rowSize - 1:\n",
    "            tempNeighbour.append((nodeTuple[0] + 1,nodeTuple[1]))\n",
    "        return tempNeighbour"
   ]
  },
  {
   "cell_type": "code",
   "execution_count": 72,
   "metadata": {},
   "outputs": [
    {
     "name": "stdout",
     "output_type": "stream",
     "text": [
      "[(0, 0), (0, 1), (0, 2), (0, 3), (1, 0), (1, 1), (1, 3), (2, 0), (2, 1)]\n"
     ]
    }
   ],
   "source": [
    "test = Solutions()\n",
    "test.numIsland([[\"1\",\"1\",\"1\",\"1\",\"0\"],[\"1\",\"1\",\"0\",\"1\",\"0\"],[\"1\",\"1\",\"0\",\"0\",\"0\"],[\"0\",\"0\",\"0\",\"0\",\"0\"]])"
   ]
  },
  {
   "cell_type": "markdown",
   "metadata": {},
   "source": [
    "The above algorithm takes too long to run, we try to make some improvement"
   ]
  },
  {
   "cell_type": "code",
   "execution_count": 116,
   "metadata": {},
   "outputs": [],
   "source": [
    "class Solutions:\n",
    "    def numIsland(self, grid):\n",
    "        if not grid:\n",
    "            return 0\n",
    "        label = 0\n",
    "        for i in range(len(grid)):\n",
    "            for j in range(len(grid[0])):\n",
    "                if grid[i][j] == '1':\n",
    "                    label -= 1\n",
    "                    self.dfs(i, j, grid, label)\n",
    "        print('The island with labels looks like', \"\\n\", grid )\n",
    "        return -label\n",
    "    def dfs(self, i, j, grid, label):\n",
    "        if i < 0 or i > len(grid) - 1 or j < 0 or j > len(grid[0]) - 1 or grid[i][j] != '1':\n",
    "            return\n",
    "        grid[i][j] = label\n",
    "        self.dfs(i-1, j, grid, label)\n",
    "        self.dfs(i+1, j, grid, label)\n",
    "        self.dfs(i, j-1, grid, label)\n",
    "        self.dfs(i, j+1, grid, label)\n"
   ]
  },
  {
   "cell_type": "code",
   "execution_count": 117,
   "metadata": {},
   "outputs": [
    {
     "name": "stdout",
     "output_type": "stream",
     "text": [
      "The island with labels looks like \n",
      " [[-1, -1, -1, -1, '0'], [-1, -1, '0', -1, '0'], [-1, -1, '0', '0', '0'], ['0', '0', '0', '0', '0']]\n"
     ]
    },
    {
     "data": {
      "text/plain": [
       "1"
      ]
     },
     "execution_count": 117,
     "metadata": {},
     "output_type": "execute_result"
    }
   ],
   "source": [
    "test = Solutions()\n",
    "test.numIsland([[\"1\",\"1\",\"1\",\"1\",\"0\"],[\"1\",\"1\",\"0\",\"1\",\"0\"],[\"1\",\"1\",\"0\",\"0\",\"0\"],[\"0\",\"0\",\"0\",\"0\",\"0\"]])"
   ]
  },
  {
   "cell_type": "markdown",
   "metadata": {},
   "source": [
    "# 207. Course Schedule\n",
    "\n",
    "There are a total of n courses you have to take, labeled from 0 to n-1.\n",
    "\n",
    "Some courses may have prerequisites, for example to take course 0 you have to first take course 1, which is expressed as a pair: [0,1]\n",
    "\n",
    "Given the total number of courses and a list of prerequisite pairs, is it possible for you to finish all courses?\n",
    "\n",
    "Example 1:\n",
    "\n",
    "Input: 2, [[1,0]] \n",
    "Output: true\n",
    "Explanation: There are a total of 2 courses to take. \n",
    "             To take course 1 you should have finished course 0. So it is possible.\n",
    "Example 2:\n",
    "\n",
    "Input: 2, [[1,0],[0,1]]\n",
    "Output: false\n",
    "Explanation: There are a total of 2 courses to take. \n",
    "             To take course 1 you should have finished course 0, and to take course 0 you should\n",
    "             also have finished course 1. So it is impossible.\n",
    "Note:\n",
    "\n",
    "The input prerequisites is a graph represented by a list of edges, not adjacency matrices. Read more about how a graph is represented.\n",
    "You may assume that there are no duplicate edges in the input prerequisites."
   ]
  },
  {
   "cell_type": "code",
   "execution_count": 5,
   "metadata": {},
   "outputs": [],
   "source": [
    "# One way would be try to verify if a course following paths have circles\n",
    "# if there are circles, then the course is not able to be a taken\n",
    "class Solutions:\n",
    "    def canFinish(self, numCourses, prerequisites):\n",
    "        result = True\n",
    "        # put the starting points of edges into a list\n",
    "        candidates = []\n",
    "        for ele in prerequisites:\n",
    "            candidates.append(ele[0])\n",
    "        candidates = list(set(candidates))\n",
    "        for i in range(numCourses):\n",
    "            #check if i's following paths have circles\n",
    "            #we can do a count for the depth of the graph\n",
    "            #if a depth of a graph more than numCourses\n",
    "            #there must be a circle\n",
    "            if i in candidates:\n",
    "                if self.pathLength(numCourses, i, prerequisites, candidates, 1) > n:\n",
    "                    return False\n",
    "    def pathLength(numCourses, i, prerequisites, candidates, iteration):\n",
    "        iteration += 1\n",
    "        if iteration > numCourses:\n",
    "            return 1\n",
    "        if i not in candidates:\n",
    "            return 1\n",
    "        tempLen = 0\n",
    "        for j in [ele for ele in prerequisites if ele[0] == i]:\n",
    "            tempLen = max(tempLen, self.pathLength(numCourses, j[1], prerequisites, candidates, iteration))\n",
    "        return 1 + tempLen\n",
    "        "
   ]
  },
  {
   "cell_type": "markdown",
   "metadata": {},
   "source": [
    "The above method is right but it takes too long to finish, since the way it decides whether there's a circle is by let it run more than n times to see if there are unlimited runs (>n). But this is not the most efficient way, the efficient way is just find the repetitive point. So basically check if there are circles starting from each point."
   ]
  },
  {
   "cell_type": "code",
   "execution_count": 6,
   "metadata": {},
   "outputs": [],
   "source": [
    "class Solution:\n",
    "    def canFinish(self, numCourses, prerequisites):\n",
    "        # put the starting points of edges into a list\n",
    "        candidates = []\n",
    "        for ele in prerequisites:\n",
    "            candidates.append(ele[0])\n",
    "        candidates = list(set(candidates))\n",
    "        for i in candidates:\n",
    "            # use the prerequiste list to find out whether \n",
    "            # their is a path going back to that point\n",
    "            stack = []\n",
    "            stack.append(i)\n",
    "            visited = []\n",
    "            timer = 0\n",
    "            while stack:\n",
    "                currentNode = stack.pop()\n",
    "                if timer >= 1:\n",
    "                    visited.append(currentNode)\n",
    "                if currentNode == i and timer >= 1:\n",
    "                    return False\n",
    "                for j in [ele[1] for ele in prerequisites if ele[0] == currentNode]:\n",
    "                    if j not in visited:\n",
    "                        stack.append(j)\n",
    "                        timer += 1\n",
    "        return True"
   ]
  },
  {
   "cell_type": "markdown",
   "metadata": {},
   "source": [
    "But the above still won't pass the extreme large scale time-limit test.\n",
    "I think it's because my in the branch search, every time I need to go over the prerequisite once, that makes the total complexity O(n^2), instead of doing it once and create a hash table with complexity O(n)."
   ]
  },
  {
   "cell_type": "code",
   "execution_count": 3,
   "metadata": {},
   "outputs": [
    {
     "data": {
      "text/plain": [
       "dict"
      ]
     },
     "execution_count": 3,
     "metadata": {},
     "output_type": "execute_result"
    }
   ],
   "source": [
    "type({i:i*2 for i in range(10)})"
   ]
  },
  {
   "cell_type": "code",
   "execution_count": 8,
   "metadata": {},
   "outputs": [],
   "source": [
    "class Solution:\n",
    "    def canFinish(self, numCourses, prerequisites):\n",
    "        # first construct a adjacent node dictionary\n",
    "        adj = {n : [] for n in range(numCourses)}\n",
    "        candidates = set()\n",
    "        for i, j in prerequisites:\n",
    "            adj[i].append(j)\n",
    "            candidates.add(i) # put the starting points of edges into a list\n",
    "        for i in candidates:\n",
    "            # use the prerequiste list to find out whether \n",
    "            # there is a path going back to that point\n",
    "            stack = adj[i]\n",
    "            visited = []\n",
    "            while stack:\n",
    "                currentNode = stack.pop()\n",
    "                visited.append(currentNode)\n",
    "                if currentNode == i:\n",
    "                    return False\n",
    "                for j in adj[currentNode]:\n",
    "                    if j not in visited:\n",
    "                        stack.append(j)\n",
    "        return True"
   ]
  },
  {
   "cell_type": "markdown",
   "metadata": {},
   "source": [
    "##208. Implement Trie (Prefix Tree)\n",
    "\n",
    "Implement a trie with insert, search, and startsWith methods.\n",
    "\n",
    "Example:\n",
    "\n",
    "Trie trie = new Trie();\n",
    "\n",
    "trie.insert(\"apple\");\n",
    "trie.search(\"apple\");   // returns true\n",
    "trie.search(\"app\");     // returns false\n",
    "trie.startsWith(\"app\"); // returns true\n",
    "trie.insert(\"app\");   \n",
    "trie.search(\"app\");     // returns true\n",
    "Note:\n",
    "\n",
    "You may assume that all inputs are consist of lowercase letters a-z.\n",
    "All inputs are guaranteed to be non-empty strings."
   ]
  },
  {
   "cell_type": "code",
   "execution_count": null,
   "metadata": {},
   "outputs": [],
   "source": [
    "class node:\n",
    "    def __init__(self, x):\n",
    "        self.letter = x\n",
    "        self.next = []\n",
    "        self.isWord = False # label to show it's a word. True is, false not.\n",
    "\n",
    "class Trie:\n",
    "\n",
    "    def __init__(self):\n",
    "        \"\"\"\n",
    "        Initialize your data structure here.\n",
    "        \"\"\"\n",
    "        self.root = node(None)\n",
    "        \n",
    "\n",
    "    def insert(self, word: str) -> None:\n",
    "        \"\"\"\n",
    "        Inserts a word into the trie.\n",
    "        \"\"\"\n",
    "        i = 0\n",
    "        current_node = self.root.next\n",
    "        while((i < len(word))):\n",
    "            if word[i] not in current_node:\n",
    "                current_node.append(node(word[i]))\n",
    "                i += 1\n",
    "                current_node = current_node[-1].next   \n",
    "            else:\n",
    "                i += 1\n",
    "                current_node = current_node\n",
    "            \n",
    "        for i in word:\n",
    "            for j in self.root.next:\n",
    "            if i not in self.root.next:\n",
    "                self.root.next.append(node(i))\n",
    "                \n",
    "            \n",
    "            \n",
    "        \n",
    "\n",
    "    def search(self, word: str) -> bool:\n",
    "        \"\"\"\n",
    "        Returns if the word is in the trie.\n",
    "        \"\"\"\n",
    "        \n",
    "\n",
    "    def startsWith(self, prefix: str) -> bool:\n",
    "        \"\"\"\n",
    "        Returns if there is any word in the trie that starts with the given prefix.\n",
    "        \"\"\"\n",
    "        \n",
    "\n",
    "\n",
    "# Your Trie object will be instantiated and called as such:\n",
    "# obj = Trie()\n",
    "# obj.insert(word)\n",
    "# param_2 = obj.search(word)\n",
    "# param_3 = obj.startsWith(prefix)"
   ]
  },
  {
   "cell_type": "code",
   "execution_count": 13,
   "metadata": {},
   "outputs": [],
   "source": [
    "class node:\n",
    "    def __init__(self, x):\n",
    "        self.letter = x\n",
    "        self.next = []\n",
    "        self.isWord = False # label to show it's a word. True is, false not."
   ]
  },
  {
   "cell_type": "code",
   "execution_count": 14,
   "metadata": {},
   "outputs": [
    {
     "data": {
      "text/plain": [
       "['haah']"
      ]
     },
     "execution_count": 14,
     "metadata": {},
     "output_type": "execute_result"
    }
   ],
   "source": [
    "test = node(None)\n",
    "test.next.append('haah')\n",
    "test.next"
   ]
  },
  {
   "cell_type": "code",
   "execution_count": 21,
   "metadata": {},
   "outputs": [],
   "source": [
    "test = 'abcd'\n",
    "if 'a' not in test:\n",
    "    print(type(test))"
   ]
  },
  {
   "cell_type": "code",
   "execution_count": null,
   "metadata": {},
   "outputs": [],
   "source": []
  }
 ],
 "metadata": {
  "kernelspec": {
   "display_name": "Python 3",
   "language": "python",
   "name": "python3"
  },
  "language_info": {
   "codemirror_mode": {
    "name": "ipython",
    "version": 3
   },
   "file_extension": ".py",
   "mimetype": "text/x-python",
   "name": "python",
   "nbconvert_exporter": "python",
   "pygments_lexer": "ipython3",
   "version": "3.7.0"
  }
 },
 "nbformat": 4,
 "nbformat_minor": 2
}
