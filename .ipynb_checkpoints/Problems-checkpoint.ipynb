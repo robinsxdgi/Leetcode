{
 "cells": [
  {
   "cell_type": "markdown",
   "metadata": {},
   "source": [
    "# 406. Queue Reconstruction by Height\n",
    "Suppose you have a random list of people standing in a queue. Each person is described by a pair of integers (h, k), where h is the height of the person and k is the number of people in front of this person who have a height greater than or equal to h. Write an algorithm to reconstruct the queue.\n",
    "\n",
    "Note:\n",
    "The number of people is less than 1,100.\n",
    "\n",
    "\n",
    "Example\n",
    "\n",
    "Input:\n",
    "[[7,0], [4,4], [7,1], [5,0], [6,1], [5,2]]\n",
    "\n",
    "Output:\n",
    "[[5,0], [7,0], [5,2], [6,1], [4,4], [7,1]]"
   ]
  },
  {
   "cell_type": "code",
   "execution_count": 1,
   "metadata": {},
   "outputs": [
    {
     "data": {
      "text/plain": [
       "[[5, 0], [7, 0], [5, 2], [6, 1], [4, 4], [7, 1]]"
      ]
     },
     "execution_count": 1,
     "metadata": {},
     "output_type": "execute_result"
    }
   ],
   "source": [
    "class Solution:\n",
    "    def reconstructQueue(self, people):\n",
    "        people = sorted(people, key = lambda x: (-x[0], x[1]))\n",
    "        final_list = []\n",
    "        for i in range(len(people)):\n",
    "            final_list.insert(people[i][1], people[i])\n",
    "        return final_list\n",
    "        \n",
    "#         print(people)\n",
    "test = Solution()\n",
    "test.reconstructQueue([[7,0], [4,4], [7,1], [5,0], [6,1], [5,2]])"
   ]
  },
  {
   "cell_type": "markdown",
   "metadata": {},
   "source": [
    "# 148. Sort List\n",
    "Sort a linked list in O(n log n) time using constant space complexity.\n",
    "\n",
    "Example 1:\n",
    "\n",
    "Input: 4->2->1->3\n",
    "Output: 1->2->3->4\n",
    "Example 2:\n",
    "\n",
    "Input: -1->5->3->4->0\n",
    "Output: -1->0->3->4->5"
   ]
  },
  {
   "cell_type": "markdown",
   "metadata": {},
   "source": [
    "## some knowledge about sorting\n",
    "For an array we could use quick sort to get the average performance of O(n log(n)), which depends on the luck of pivot's choice each time;\n",
    "\n",
    "For an linked list, we could use merge sort to get a worst case performance of O(n log(n)). \n",
    "\n",
    "We could think of the merge sort in this way: include <font color=blue>devide</font> + <font color=blue>sort_merge</font> two parts, for <font color=blue>devide</font>, it always divide a linked list into left and right half (with odd and even number), for <font color=blue>sort_merge</font>, it always returns the merge (i.e. a new list) of two sorted lists with this rule: (1) if one is null, then return the other, (2) if two are not null, then return a linked list with the largest/smallest value of the head elements of two lists, and the next value is the sort_merge the rest elements of the two lists without that head elements."
   ]
  },
  {
   "cell_type": "code",
   "execution_count": 46,
   "metadata": {},
   "outputs": [],
   "source": [
    "# Definition for singly-linked list.\n",
    "class ListNode:\n",
    "    def __init__(self, x):\n",
    "        self.val = x\n",
    "        self.next = None\n",
    "\n",
    "class Solution:\n",
    "#     def sortList(self, head):\n",
    "    def divide(self, head): \n",
    "        if head == None or head.next == None:\n",
    "            return head\n",
    "        left = ListNode(head.val) # left list initialized to the first element (4,1)\n",
    "        right = ListNode(head.next.val) # right list initialized to the second element (2,3)\n",
    "        index_node = head.next.next #(1,3)\n",
    "        left_last = left #(4,1)\n",
    "        right_last = right #(2,3)\n",
    "        while index_node != None and index_node.next != None:\n",
    "            left_last.next = ListNode(index_node.val) #(1)\n",
    "            right_last.next = ListNode(index_node.next.val) #(3)\n",
    "            left_last = left_last.next #(1)\n",
    "            right_last = right_last.next #(3)\n",
    "            index_node = index_node.next.next #(None)\n",
    "        left_last.next = index_node #(None) it might be none or some element, but its next must be none, since otherwise the while loop won't end\n",
    "        return self.sortMerge(self.divide(left), self.divide(right))\n",
    "    def sortMerge(self, left_list, right_list):\n",
    "        if left_list == None:\n",
    "            return right_list\n",
    "        if right_list == None:\n",
    "            return left_list\n",
    "        if left_list.val < right_list.val:\n",
    "            head = ListNode(left_list.val)\n",
    "            head.next = self.sortMerge(left_list.next, right_list)\n",
    "            return head\n",
    "        else:\n",
    "            head = ListNode(right_list.val)\n",
    "            head.next = self.sortMerge(left_list, right_list.next)\n",
    "            return head\n",
    "        "
   ]
  },
  {
   "cell_type": "code",
   "execution_count": 55,
   "metadata": {},
   "outputs": [
    {
     "name": "stdout",
     "output_type": "stream",
     "text": [
      "4\n"
     ]
    }
   ],
   "source": [
    "#4, 2, 1, 3\n",
    "# [-1,5,3,4,0]\n",
    "node1 = ListNode(-1)\n",
    "node2 = ListNode(5)\n",
    "node3 = ListNode(4)\n",
    "node4 = ListNode(5)\n",
    "node5 = ListNode(0)\n",
    "node1.next = node2\n",
    "node2.next = node3\n",
    "node3.next = node4\n",
    "node4.next = node5\n",
    "# testNode = node1.next\n",
    "# testNode.next = None\n",
    "test = Solution()\n",
    "# print(node1.next.next.next.next.val)\n",
    "print(test.divide(node1).next.next.val)"
   ]
  },
  {
   "cell_type": "markdown",
   "metadata": {},
   "source": [
    "# 617. Merge Two Binary Trees\n",
    "\n",
    "Given two binary trees and imagine that when you put one of them to cover the other, some nodes of the two trees are overlapped while the others are not.\n",
    "\n",
    "You need to merge them into a new binary tree. The merge rule is that if two nodes overlap, then sum node values up as the new value of the merged node. Otherwise, the NOT null node will be used as the node of new tree.\n",
    "\n",
    "Example 1:\n",
    "\n",
    "Input: \n",
    "\tTree 1                     Tree 2                  \n",
    "          1                         2                             \n",
    "         / \\                       / \\                            \n",
    "        3   2                     1   3                        \n",
    "       /                           \\   \\                      \n",
    "      5                             4   7                  \n",
    "Output: \n",
    "Merged tree:\n",
    "\t     3\n",
    "\t    / \\\n",
    "\t   4   5\n",
    "\t  / \\   \\ \n",
    "\t 5   4   7\n",
    " \n",
    "\n",
    "Note: The merging process must start from the root nodes of both trees."
   ]
  },
  {
   "cell_type": "code",
   "execution_count": 6,
   "metadata": {},
   "outputs": [],
   "source": [
    "# Definition for a binary tree node.\n",
    "class TreeNode:\n",
    "    def __init__(self, x):\n",
    "        self.val = x\n",
    "        self.left = None\n",
    "        self.right = None\n",
    "\n",
    "class Solution:\n",
    "    def mergeTrees(self, t1: TreeNode, t2: TreeNode) -> TreeNode:\n",
    "        if not t1:\n",
    "            return t2\n",
    "        if not t2:\n",
    "            return t1\n",
    "        combinedNode = TreeNode(t1.val + t2.val)\n",
    "        combinedNode.left = self.mergeTrees(t1.left, t2.left)\n",
    "        combinedNode.right = self.mergeTrees(t1.right, t2.right)\n",
    "        return combinedNode"
   ]
  },
  {
   "cell_type": "code",
   "execution_count": null,
   "metadata": {},
   "outputs": [],
   "source": []
  }
 ],
 "metadata": {
  "kernelspec": {
   "display_name": "Python 3",
   "language": "python",
   "name": "python3"
  },
  "language_info": {
   "codemirror_mode": {
    "name": "ipython",
    "version": 3
   },
   "file_extension": ".py",
   "mimetype": "text/x-python",
   "name": "python",
   "nbconvert_exporter": "python",
   "pygments_lexer": "ipython3",
   "version": "3.6.5"
  }
 },
 "nbformat": 4,
 "nbformat_minor": 2
}
