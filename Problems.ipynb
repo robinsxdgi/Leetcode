{
 "cells": [
  {
   "cell_type": "markdown",
   "metadata": {},
   "source": [
    "# 406. Queue Reconstruction by Height\n",
    "Suppose you have a random list of people standing in a queue. Each person is described by a pair of integers (h, k), where h is the height of the person and k is the number of people in front of this person who have a height greater than or equal to h. Write an algorithm to reconstruct the queue.\n",
    "\n",
    "Note:\n",
    "The number of people is less than 1,100.\n",
    "\n",
    "\n",
    "Example\n",
    "\n",
    "Input:\n",
    "[[7,0], [4,4], [7,1], [5,0], [6,1], [5,2]]\n",
    "\n",
    "Output:\n",
    "[[5,0], [7,0], [5,2], [6,1], [4,4], [7,1]]"
   ]
  },
  {
   "cell_type": "code",
   "execution_count": 1,
   "metadata": {},
   "outputs": [
    {
     "data": {
      "text/plain": [
       "[[5, 0], [7, 0], [5, 2], [6, 1], [4, 4], [7, 1]]"
      ]
     },
     "execution_count": 1,
     "metadata": {},
     "output_type": "execute_result"
    }
   ],
   "source": [
    "class Solution:\n",
    "    def reconstructQueue(self, people):\n",
    "        people = sorted(people, key = lambda x: (-x[0], x[1]))\n",
    "        final_list = []\n",
    "        for i in range(len(people)):\n",
    "            final_list.insert(people[i][1], people[i])\n",
    "        return final_list\n",
    "        \n",
    "#         print(people)\n",
    "test = Solution()\n",
    "test.reconstructQueue([[7,0], [4,4], [7,1], [5,0], [6,1], [5,2]])"
   ]
  },
  {
   "cell_type": "code",
   "execution_count": null,
   "metadata": {},
   "outputs": [],
   "source": []
  }
 ],
 "metadata": {
  "kernelspec": {
   "display_name": "Python 3",
   "language": "python",
   "name": "python3"
  },
  "language_info": {
   "codemirror_mode": {
    "name": "ipython",
    "version": 3
   },
   "file_extension": ".py",
   "mimetype": "text/x-python",
   "name": "python",
   "nbconvert_exporter": "python",
   "pygments_lexer": "ipython3",
   "version": "3.7.0"
  }
 },
 "nbformat": 4,
 "nbformat_minor": 2
}
