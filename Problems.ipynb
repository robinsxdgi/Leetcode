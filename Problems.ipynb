{
 "cells": [
  {
   "cell_type": "markdown",
   "metadata": {},
   "source": [
    "# 406. Queue Reconstruction by Height\n",
    "Suppose you have a random list of people standing in a queue. Each person is described by a pair of integers (h, k), where h is the height of the person and k is the number of people in front of this person who have a height greater than or equal to h. Write an algorithm to reconstruct the queue.\n",
    "\n",
    "Note:\n",
    "The number of people is less than 1,100.\n",
    "\n",
    "\n",
    "Example\n",
    "\n",
    "Input:\n",
    "[[7,0], [4,4], [7,1], [5,0], [6,1], [5,2]]\n",
    "\n",
    "Output:\n",
    "[[5,0], [7,0], [5,2], [6,1], [4,4], [7,1]]"
   ]
  },
  {
   "cell_type": "code",
   "execution_count": 1,
   "metadata": {},
   "outputs": [
    {
     "data": {
      "text/plain": [
       "[[5, 0], [7, 0], [5, 2], [6, 1], [4, 4], [7, 1]]"
      ]
     },
     "execution_count": 1,
     "metadata": {},
     "output_type": "execute_result"
    }
   ],
   "source": [
    "class Solution:\n",
    "    def reconstructQueue(self, people):\n",
    "        people = sorted(people, key = lambda x: (-x[0], x[1]))\n",
    "        final_list = []\n",
    "        for i in range(len(people)):\n",
    "            final_list.insert(people[i][1], people[i])\n",
    "        return final_list\n",
    "        \n",
    "#         print(people)\n",
    "test = Solution()\n",
    "test.reconstructQueue([[7,0], [4,4], [7,1], [5,0], [6,1], [5,2]])"
   ]
  },
  {
   "cell_type": "markdown",
   "metadata": {},
   "source": [
    "# 148. Sort List\n",
    "Sort a linked list in O(n log n) time using constant space complexity.\n",
    "\n",
    "Example 1:\n",
    "\n",
    "Input: 4->2->1->3\n",
    "Output: 1->2->3->4\n",
    "Example 2:\n",
    "\n",
    "Input: -1->5->3->4->0\n",
    "Output: -1->0->3->4->5"
   ]
  },
  {
   "cell_type": "markdown",
   "metadata": {},
   "source": [
    "## some knowledge about sorting\n",
    "For an array we could use quick sort to get the average performance of O(n log(n)), which depends on the luck of pivot's choice each time;\n",
    "\n",
    "For an linked list, we could use merge sort to get a worst case performance of O(n log(n)). \n",
    "\n",
    "We could think of the merge sort in this way: include <font color=blue>devide</font> + <font color=blue>sort_merge</font> two parts, for <font color=blue>devide</font>, it always divide a linked list into left and right half (with odd and even number), for <font color=blue>sort_merge</font>, it always returns the merge (i.e. a new list) of two sorted lists with this rule: (1) if one is null, then return the other, (2) if two are not null, then return a linked list with the largest/smallest value of the head elements of two lists, and the next value is the sort_merge the rest elements of the two lists without that head elements."
   ]
  },
  {
   "cell_type": "code",
   "execution_count": 46,
   "metadata": {},
   "outputs": [],
   "source": [
    "# Definition for singly-linked list.\n",
    "class ListNode:\n",
    "    def __init__(self, x):\n",
    "        self.val = x\n",
    "        self.next = None\n",
    "\n",
    "class Solution:\n",
    "#     def sortList(self, head):\n",
    "    def divide(self, head): \n",
    "        if head == None or head.next == None:\n",
    "            return head\n",
    "        left = ListNode(head.val) # left list initialized to the first element (4,1)\n",
    "        right = ListNode(head.next.val) # right list initialized to the second element (2,3)\n",
    "        index_node = head.next.next #(1,3)\n",
    "        left_last = left #(4,1)\n",
    "        right_last = right #(2,3)\n",
    "        while index_node != None and index_node.next != None:\n",
    "            left_last.next = ListNode(index_node.val) #(1)\n",
    "            right_last.next = ListNode(index_node.next.val) #(3)\n",
    "            left_last = left_last.next #(1)\n",
    "            right_last = right_last.next #(3)\n",
    "            index_node = index_node.next.next #(None)\n",
    "        left_last.next = index_node #(None) it might be none or some element, but its next must be none, since otherwise the while loop won't end\n",
    "        return self.sortMerge(self.divide(left), self.divide(right))\n",
    "    def sortMerge(self, left_list, right_list):\n",
    "        if left_list == None:\n",
    "            return right_list\n",
    "        if right_list == None:\n",
    "            return left_list\n",
    "        if left_list.val < right_list.val:\n",
    "            head = ListNode(left_list.val)\n",
    "            head.next = self.sortMerge(left_list.next, right_list)\n",
    "            return head\n",
    "        else:\n",
    "            head = ListNode(right_list.val)\n",
    "            head.next = self.sortMerge(left_list, right_list.next)\n",
    "            return head\n",
    "        "
   ]
  },
  {
   "cell_type": "code",
   "execution_count": 55,
   "metadata": {},
   "outputs": [
    {
     "name": "stdout",
     "output_type": "stream",
     "text": [
      "4\n"
     ]
    }
   ],
   "source": [
    "#4, 2, 1, 3\n",
    "# [-1,5,3,4,0]\n",
    "node1 = ListNode(-1)\n",
    "node2 = ListNode(5)\n",
    "node3 = ListNode(4)\n",
    "node4 = ListNode(5)\n",
    "node5 = ListNode(0)\n",
    "node1.next = node2\n",
    "node2.next = node3\n",
    "node3.next = node4\n",
    "node4.next = node5\n",
    "# testNode = node1.next\n",
    "# testNode.next = None\n",
    "test = Solution()\n",
    "# print(node1.next.next.next.next.val)\n",
    "print(test.divide(node1).next.next.val)"
   ]
  },
  {
   "cell_type": "markdown",
   "metadata": {},
   "source": [
    "# 617. Merge Two Binary Trees\n",
    "\n",
    "Given two binary trees and imagine that when you put one of them to cover the other, some nodes of the two trees are overlapped while the others are not.\n",
    "\n",
    "You need to merge them into a new binary tree. The merge rule is that if two nodes overlap, then sum node values up as the new value of the merged node. Otherwise, the NOT null node will be used as the node of new tree.\n",
    "\n",
    "Example 1:\n",
    "\n",
    "Input: \n",
    "\tTree 1                     Tree 2                  \n",
    "          1                         2                             \n",
    "         / \\                       / \\                            \n",
    "        3   2                     1   3                        \n",
    "       /                           \\   \\                      \n",
    "      5                             4   7                  \n",
    "Output: \n",
    "Merged tree:\n",
    "\t     3\n",
    "\t    / \\\n",
    "\t   4   5\n",
    "\t  / \\   \\ \n",
    "\t 5   4   7\n",
    " \n",
    "\n",
    "Note: The merging process must start from the root nodes of both trees."
   ]
  },
  {
   "cell_type": "code",
   "execution_count": 6,
   "metadata": {},
   "outputs": [],
   "source": [
    "# Definition for a binary tree node.\n",
    "class TreeNode:\n",
    "    def __init__(self, x):\n",
    "        self.val = x\n",
    "        self.left = None\n",
    "        self.right = None\n",
    "\n",
    "class Solution:\n",
    "    def mergeTrees(self, t1: TreeNode, t2: TreeNode) -> TreeNode:\n",
    "        if not t1:\n",
    "            return t2\n",
    "        if not t2:\n",
    "            return t1\n",
    "        combinedNode = TreeNode(t1.val + t2.val)\n",
    "        combinedNode.left = self.mergeTrees(t1.left, t2.left)\n",
    "        combinedNode.right = self.mergeTrees(t1.right, t2.right)\n",
    "        return combinedNode"
   ]
  },
  {
   "cell_type": "code",
   "execution_count": 17,
   "metadata": {},
   "outputs": [],
   "source": [
    "# Depth first search for binary tree\n",
    "def dFS(root):\n",
    "    s = []\n",
    "    s.append(root)\n",
    "    while len(s) != 0:\n",
    "        c = s.pop(-1)\n",
    "#         print(len(s))\n",
    "        print(c.val)\n",
    "        if c.left:\n",
    "            s.append(c.left)\n",
    "        if c.right:\n",
    "            s.append(c.right)"
   ]
  },
  {
   "cell_type": "code",
   "execution_count": 18,
   "metadata": {
    "scrolled": true
   },
   "outputs": [
    {
     "name": "stdout",
     "output_type": "stream",
     "text": [
      "1\n",
      "3\n",
      "2\n"
     ]
    }
   ],
   "source": [
    "test = TreeNode(1)\n",
    "test.left = TreeNode(2)\n",
    "test.right = TreeNode(3)\n",
    "dFS(test)"
   ]
  },
  {
   "cell_type": "markdown",
   "metadata": {},
   "source": [
    "# 104. Maximum Depth of Binary Tree\n",
    "\n",
    "Given a binary tree, find its maximum depth.\n",
    "\n",
    "The maximum depth is the number of nodes along the longest path from the root node down to the farthest leaf node.\n",
    "\n",
    "Note: A leaf is a node with no children.\n",
    "\n",
    "Example:\n",
    "\n",
    "Given binary tree [3,9,20,null,null,15,7],\n",
    "\n",
    "    3\n",
    "   / \\\n",
    "  9  20\n",
    "    /  \\\n",
    "   15   7\n",
    "return its depth = 3."
   ]
  },
  {
   "cell_type": "code",
   "execution_count": 21,
   "metadata": {},
   "outputs": [
    {
     "data": {
      "text/plain": [
       "2"
      ]
     },
     "execution_count": 21,
     "metadata": {},
     "output_type": "execute_result"
    }
   ],
   "source": [
    "# Definition for a binary tree node.\n",
    "class TreeNode:\n",
    "    def __init__(self, x):\n",
    "        self.val = x\n",
    "        self.left = None\n",
    "        self.right = None\n",
    "\n",
    "class Solution:\n",
    "    def maxDepth(self, root):\n",
    "        if not root:\n",
    "            return 0\n",
    "        return 1 + max(self.maxDepth(root.left), self.maxDepth(root.right))\n",
    "\n",
    "test = TreeNode(1)\n",
    "test.left = TreeNode(2)\n",
    "test.right = TreeNode(3)\n",
    "result = Solution()\n",
    "result.maxDepth(test)"
   ]
  },
  {
   "cell_type": "code",
   "execution_count": 24,
   "metadata": {},
   "outputs": [
    {
     "name": "stdout",
     "output_type": "stream",
     "text": [
      "[4, 4, 3, 2, 2, 1]\n"
     ]
    }
   ],
   "source": [
    "test = [1,2,4,3,4,2]\n",
    "haha = sorted(test, reverse = True)\n",
    "print(haha)"
   ]
  },
  {
   "cell_type": "markdown",
   "metadata": {},
   "source": [
    "# 101. Symmetric Tree\n",
    "\n",
    "Given a binary tree, check whether it is a mirror of itself (ie, symmetric around its center).\n",
    "\n",
    "For example, this binary tree [1,2,2,3,4,4,3] is symmetric:\n",
    "\n",
    "    1\n",
    "   / \\\n",
    "  2   2\n",
    " / \\ / \\\n",
    "3  4 4  3\n",
    "But the following [1,2,2,null,3,null,3] is not:\n",
    "    1\n",
    "   / \\\n",
    "  2   2\n",
    "   \\   \\\n",
    "   3    3\n",
    "Note:\n",
    "Bonus points if you could solve it both recursively and iteratively."
   ]
  },
  {
   "cell_type": "code",
   "execution_count": 52,
   "metadata": {},
   "outputs": [],
   "source": [
    "# Definition for a binary tree node.\n",
    "# class TreeNode:\n",
    "#     def __init__(self, x):\n",
    "#         self.val = x\n",
    "#         self.left = None\n",
    "#         self.right = None\n",
    "\n",
    "class Solution:\n",
    "    def isSymmetric(self, root):\n",
    "        if not root:\n",
    "            return True\n",
    "        return self.helper(root.left, root.right)\n",
    "    def helper(self, node1, node2):\n",
    "        if node1 == None and node2 != None:\n",
    "            return False\n",
    "        if node1 != None and node2 == None:\n",
    "            return False\n",
    "        if node1 == None and node2 == None:\n",
    "            return True\n",
    "        if node1.val != node2.val:\n",
    "            return False\n",
    "        return True and self.helper(node1.left, node2.right) and self.helper(node1.right, node2.left)"
   ]
  },
  {
   "cell_type": "markdown",
   "metadata": {},
   "source": [
    "# 200. Number of Islands\n",
    "\n",
    "Given a 2d grid map of '1's (land) and '0's (water), count the number of islands. An island is surrounded by water and is formed by connecting adjacent lands horizontally or vertically. You may assume all four edges of the grid are all surrounded by water.\n",
    "\n",
    "Example 1:\n",
    "\n",
    "Input:\n",
    "11110\n",
    "11010\n",
    "11000\n",
    "00000\n",
    "\n",
    "Output: 1\n",
    "Example 2:\n",
    "\n",
    "Input:\n",
    "11000\n",
    "11000\n",
    "00100\n",
    "00011\n",
    "\n",
    "Output: 3"
   ]
  },
  {
   "cell_type": "code",
   "execution_count": 64,
   "metadata": {},
   "outputs": [
    {
     "name": "stdout",
     "output_type": "stream",
     "text": [
      "[(1, 2), (2, 4), (3, 4)]\n",
      "<class 'list'>\n",
      "(1, 2)\n",
      "False\n",
      "<class 'tuple'>\n",
      "2\n"
     ]
    }
   ],
   "source": [
    "test = [(1,2), (2,4), (3,4)]\n",
    "print(test)\n",
    "print(type(test))\n",
    "print(test[0])\n",
    "print((2,1) in test)\n",
    "print(type(test[0]))\n",
    "print(test[0][1])"
   ]
  },
  {
   "cell_type": "code",
   "execution_count": 71,
   "metadata": {},
   "outputs": [],
   "source": [
    "# 1. put all the 1 node tuple in a list\n",
    "class Solutions:\n",
    "    def numIsland(self, grid):\n",
    "        islandTuple = []\n",
    "        for i in range(len(grid)):\n",
    "            for j in range(len(grid[0])):\n",
    "                if grid[i][j] == '1':\n",
    "                    islandTuple.append((i, j))\n",
    "        # 2. pop each node from the list and use DFS to \n",
    "        #    label each node and its nearby 1 nodes, and\n",
    "        #    remember to check if the node has been searched,\n",
    "        #    increase the label by 1\n",
    "        label = 0\n",
    "        root = islandTuple[-1]\n",
    "        while root in islandTuple:\n",
    "            islandTuple.pop()\n",
    "            label += 1\n",
    "            islandQue = []\n",
    "            islandQue.append(root)\n",
    "            while islandQue:\n",
    "                node = islandQue[-1]\n",
    "                islandQue.pop()\n",
    "                for ele in self.neighbor(node, len(grid), len(grid[0])):\n",
    "                    if ele in islandTuple:\n",
    "                        islandQue.append(ele)\n",
    "                        islandTuple.remove(ele) \n",
    "        # 3. return the largest label, i.e., the total islands\n",
    "        return label\n",
    "    \n",
    "    def neighbor(self, nodeTuple, rowSize, colSize):\n",
    "        tempNeighbour = []\n",
    "        if nodeTuple[1] - 1 >= 0:\n",
    "            tempNeighbour.append((nodeTuple[0],nodeTuple[1] - 1))\n",
    "        if nodeTuple[0] - 1 >= 0:\n",
    "            tempNeighbour.append((nodeTuple[0] - 1,nodeTuple[1]))\n",
    "        if nodeTuple[1] + 1 <= colSize - 1:\n",
    "            tempNeighbour.append((nodeTuple[0],nodeTuple[1] + 1))\n",
    "        if nodeTuple[0] + 1 <= rowSize - 1:\n",
    "            tempNeighbour.append((nodeTuple[0] + 1,nodeTuple[1]))\n",
    "        return tempNeighbour"
   ]
  },
  {
   "cell_type": "code",
   "execution_count": 72,
   "metadata": {},
   "outputs": [
    {
     "name": "stdout",
     "output_type": "stream",
     "text": [
      "[(0, 0), (0, 1), (0, 2), (0, 3), (1, 0), (1, 1), (1, 3), (2, 0), (2, 1)]\n"
     ]
    }
   ],
   "source": [
    "test = Solutions()\n",
    "test.numIsland([[\"1\",\"1\",\"1\",\"1\",\"0\"],[\"1\",\"1\",\"0\",\"1\",\"0\"],[\"1\",\"1\",\"0\",\"0\",\"0\"],[\"0\",\"0\",\"0\",\"0\",\"0\"]])"
   ]
  },
  {
   "cell_type": "markdown",
   "metadata": {},
   "source": [
    "The above algorithm takes too long to run, we try to make some improvement"
   ]
  },
  {
   "cell_type": "code",
   "execution_count": null,
   "metadata": {},
   "outputs": [],
   "source": []
  }
 ],
 "metadata": {
  "kernelspec": {
   "display_name": "Python 3",
   "language": "python",
   "name": "python3"
  },
  "language_info": {
   "codemirror_mode": {
    "name": "ipython",
    "version": 3
   },
   "file_extension": ".py",
   "mimetype": "text/x-python",
   "name": "python",
   "nbconvert_exporter": "python",
   "pygments_lexer": "ipython3",
   "version": "3.6.5"
  }
 },
 "nbformat": 4,
 "nbformat_minor": 2
}
